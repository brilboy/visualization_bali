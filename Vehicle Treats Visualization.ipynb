{
 "cells": [
  {
   "cell_type": "code",
   "execution_count": 43,
   "id": "a613612f",
   "metadata": {},
   "outputs": [],
   "source": [
    "import pandas as pd\n",
    "import numpy as np\n",
    "import matplotlib.pyplot as plt\n",
    "from sklearn import linear_model\n",
    "from sklearn.model_selection import train_test_split\n",
    "from sklearn.linear_model import LinearRegression\n",
    "import csv"
   ]
  },
  {
   "cell_type": "code",
   "execution_count": 28,
   "id": "ab322c83",
   "metadata": {},
   "outputs": [
    {
     "name": "stdout",
     "output_type": "stream",
     "text": [
      "<bound method NDFrame.head of    Tahun  JumlahPenduduk  JumlahKendaraan\n",
      "0   2011          3957.6         2494.478\n",
      "1   2012          4007.2         2749.164\n",
      "2   2013          4056.3         3003.688\n",
      "3   2014          4104.9         3268.112\n",
      "4   2015          4148.4         3505.984\n",
      "5   2016          4202.4         3725.392\n",
      "6   2017          4256.0         3907.094\n",
      "7   2018          4309.2         4117.949\n",
      "8   2019          4362.1         4352.596>\n"
     ]
    }
   ],
   "source": [
    "df = pd.read_csv(r\"C:\\Users\\Ahmad Jibril H\\Documents\\Kuliah\\Undergraduate\\Tingkat 2\\MAP\\Pencil\\Data Cleaning Products.csv\")\n",
    "print(df.head)"
   ]
  },
  {
   "cell_type": "code",
   "execution_count": 40,
   "id": "a1943e09",
   "metadata": {},
   "outputs": [],
   "source": [
    "x = df.iloc[:, :-1].values\n",
    "y = df.iloc[:, 1].values"
   ]
  },
  {
   "cell_type": "code",
   "execution_count": 57,
   "id": "6b223e01",
   "metadata": {},
   "outputs": [
    {
     "data": {
      "text/plain": [
       "LinearRegression()"
      ]
     },
     "execution_count": 57,
     "metadata": {},
     "output_type": "execute_result"
    }
   ],
   "source": [
    "reg = linear_model.LinearRegression()\n",
    "reg.fit(df[['JumlahPenduduk']], df.JumlahKendaraan)"
   ]
  },
  {
   "cell_type": "code",
   "execution_count": 58,
   "id": "58049b17",
   "metadata": {
    "scrolled": true
   },
   "outputs": [
    {
     "data": {
      "text/plain": [
       "[<matplotlib.lines.Line2D at 0x1c8a458fd00>]"
      ]
     },
     "execution_count": 58,
     "metadata": {},
     "output_type": "execute_result"
    },
    {
     "data": {
      "image/png": "[encoded data removed]",
      "text/plain": [
       "<Figure size 432x288 with 1 Axes>"
      ]
     },
     "metadata": {
      "needs_background": "light"
     },
     "output_type": "display_data"
    }
   ],
   "source": [
    "%matplotlib inline\n",
    "plt.xlabel('Jumlah Penduduk (Ribu)')\n",
    "plt.ylabel('Jumlah Kendaraan (Ribu)')\n",
    "plt.title('Korelasi Jumlah Kendaraan')\n",
    "plt.scatter(df.JumlahPenduduk, df.JumlahKendaraan, color = 'red', marker = '+')\n",
    "plt.plot(df.JumlahPenduduk, reg.predict(df[['JumlahPenduduk']]), color = 'blue')"
   ]
  },
  {
   "cell_type": "code",
   "execution_count": 62,
   "id": "26480a65",
   "metadata": {},
   "outputs": [
    {
     "data": {
      "text/plain": [
       "array([4.55983203])"
      ]
     },
     "execution_count": 62,
     "metadata": {},
     "output_type": "execute_result"
    }
   ],
   "source": [
    "reg.coef_"
   ]
  },
  {
   "cell_type": "code",
   "execution_count": 60,
   "id": "9b0a9d23",
   "metadata": {},
   "outputs": [
    {
     "data": {
      "text/plain": [
       "-15492.439566819137"
      ]
     },
     "execution_count": 60,
     "metadata": {},
     "output_type": "execute_result"
    }
   ],
   "source": [
    "reg.intercept_"
   ]
  }
 ],
 "metadata": {
  "kernelspec": {
   "display_name": "Python 3",
   "language": "python",
   "name": "python3"
  },
  "language_info": {
   "codemirror_mode": {
    "name": "ipython",
    "version": 3
   },
   "file_extension": ".py",
   "mimetype": "text/x-python",
   "name": "python",
   "nbconvert_exporter": "python",
   "pygments_lexer": "ipython3",
   "version": "3.8.8"
  }
 },
 "nbformat": 4,
 "nbformat_minor": 5
}
